{
 "cells": [
  {
   "cell_type": "markdown",
   "id": "853c66f5-00c4-4efe-b394-5251a418575b",
   "metadata": {},
   "source": [
    "# 🎄 Python Advent Calendar 🎄\n",
    "## [Day 2: Pandas Flavor Chains](https://py-advent-calendar.beehiiv.com/p/day-225-pandas-flavor-chains)\n",
    "_🔗 [Read the newsletter here](https://py-advent-calendar.beehiiv.com/p/day-225-pandas-flavor-chains)_\n",
    "\n",
    "*Every day until Christmas we’ll open a new door to Python secrets. Behind today’s door you will* ***discover a whole new way to use pandas*** *by combining the principles of method chaining with the power of* ***pandas_flavor****. Who doesn’t love a* **[good chain](https://link.mail.beehiiv.com/ss/c/Fu4EPqIapGgImIgza8sdTSKgpWt-hQw92q171wRa0oTptuPSFhgV4q4g0YVmER7BSFYGlB27L44m2ixF8y8aEut62_hdqWSwVqAq1RwmIw3Qz3ppbmWxFKQgf_kwA1FbPK8ahAgHaYXrp19BU0X-sZ6Nu7C3Qh4KDA921QM8ls62rXXsAStV0iWTBJqQUjmBopDrtzULd8qLZ9WqfTAosQ/41s/eX7tzooLQfKLVhBO3tBJeQ/h5/eQFEwm-nXKrsFOt7sU-qSFKB-5x4qtafOSmQLMypMY0)** **¹***?*"
   ]
  },
  {
   "cell_type": "markdown",
   "id": "d4cf62a0-1f4b-432c-8864-773edbddef0e",
   "metadata": {},
   "source": [
    "<img src=\"./ac-2-door.png\" width=400>"
   ]
  },
  {
   "cell_type": "markdown",
   "id": "e8eedce7-4a1e-44b6-a684-70a89b920c8b",
   "metadata": {},
   "source": [
    "---"
   ]
  },
  {
   "cell_type": "markdown",
   "id": "1646b8b1-dcc6-4240-9966-b16c86ef8a06",
   "metadata": {},
   "source": [
    "## 1️⃣  Modern Pandas: An idiomatic guide by a pandas maintainer\n",
    "_📆 Written: April 2016_\n",
    "\n",
    "One of our top recommended teaching resources at Coefficient is Tom Augspurger’s **[blog post on method chaining in pandas](https://link.mail.beehiiv.com/ss/c/AJNVrU_uqSEvE7VehET4E0utaP9oG-x7MFzgOFbN4I4t_oyB8jPq94HB72ggL_gi9ZpEtkTEi2L4dQ4h9An1Xjwjh3QFYmnERFzybnIKbw73CHxBrbWOsUHmaIR5c3N2chSX38DCz_j2cTzMO9uGlJoSESCmoPduMe5G8PiyqP-X9o8JVP-ujyAi1b1nGg4Moe--WNNJTyh62G3NnVTWmewSnUDDg0UWTlkUlOVGZC8/41s/eX7tzooLQfKLVhBO3tBJeQ/h7/mgJdkqqpxN3Hhv7LSrTfJ_xMLiEX0Niaqw2bMzJGBCk)**. Adapting a concept Tom **[borrowed from Jeff Allen](https://link.mail.beehiiv.com/ss/c/ZfHgEd0ozJFXp5KhRVlI31bZTWgxU5T7h5S8yVdS7zz2rBFc4MAYgmpqQk9e_gk_eFfD3fpFpfQktK3cVFKJdYUUKBDR5NEcOh2HgGmGsIfchDsQwX34Y7hcmpAoslXsmqFOjLJC04bnzdmydm1lNgZxOFf30Fd4Ont9Nx-7pDOlraRhDR1o9_JdJ90tUv729p5BqLNv_gxHPTNvbcSDLf1QXuIAb1-M13OGNDMAAmM/41s/eX7tzooLQfKLVhBO3tBJeQ/h8/yOvWwM9njumTf0JkGhYcVeYiq7uf5pGLi0xJbz7I8ho)** of **[dplyr](https://link.mail.beehiiv.com/ss/c/QryPmEUXYzWv8ArfnkS7uHG3mNWdqliTZvTMJOZoQIrqYm0q7Jqezqx-dukU-XMheAFR2F9Jh0hCoAaFLYMuhUC31MSHY133OTcIRdol7H6eptpGKLFiGK0Lp-LMfPcVvgn6QcZ33TXzfTj7zp_BrVXLANpGnBTXVIFHuo2DRHCsEV1tlY4wvYOI8hr_WIkT/41s/eX7tzooLQfKLVhBO3tBJeQ/h9/CjV-zaEzc2i_TI7OdoU7g8w2Bs0g_C8ZMEGKKV_LZjE)**, here’s a story we might tell in Python:\n",
    "\n",
    "```python\n",
    "come_to(\n",
    "    find_out(\n",
    "\tcheck(make(santa_claus, \"list\"), n=2),\n",
    "    \t\"naughty_or_nice\"\n",
    "    ),\n",
    "    \"town\"\n",
    ")\n",
    "```\n",
    "\n",
    "and here’s how we can use the “pipe” operator in R, which feeds the thing on the left into the first argument of the function on the right:\n",
    "\n",
    "```R\n",
    "santa_claus %>%\n",
    "    make(\"list\") %>%\n",
    "    check(n=2) %>%\n",
    "    find_out(\"naughty_or_nice\") %>%\n",
    "    come_to(\"town\")\n",
    "```\n",
    "\n",
    "Hopefully you’re not writing Python “inside out” like the first example here, but it is very common (especially for pandas users) to create an entire variable name just for a temporary transformation step. I call this the “hype man” pandas style:\n",
    "\n",
    "```python\n",
    "made_list = make(santa_claus, \"list\")\n",
    "checked_twice = check(made_list, n=2)\n",
    "found_out = find_out(checked_twice, \"naughty_or_nice\")\n",
    "santas_in_town = come_to(found_out, \"town\")\n",
    "```"
   ]
  },
  {
   "cell_type": "markdown",
   "id": "786d5e11-d7ee-4cc6-99d9-ce879b9eed1d",
   "metadata": {},
   "source": [
    "Unless you *really* like inventing variable names, this style of code can be avoided using method chains to create cleaner, more readable, and in some cases more performant code:\n",
    "\n",
    "```python\n",
    "santa_claus = pd.DataFrame()\n",
    "(\n",
    "    santa_claus.pipe(make, \"list\")\n",
    "    .pipe(check, n=2)\n",
    "    .pipe(find_out, \"naughty_or_nice\")\n",
    "    .pipe(come_to, \"town\")\n",
    ")\n",
    "```\n",
    "\n",
    "There are some good arguments for “hype man” style, for example when first writing the pipeline, testing the outputs of each stage, debugging or performance optimisation, but in the long-term our code should be “***written for people to read, and only incidentally for machines to execute***” (Harold Abelson, *Structure and Interpretation of Computer Programs)*.\n",
    "\n",
    "It *would* be nice, however, if we didn’t need those .pipe() arguments. Here’s what Tom said about this back in 2016:\n",
    "\n",
    "> *Monkeypatching on your own methods is fragile. It’s not easy to correctly subclass pandas’ DataFrame to extend it with your own methods. Composition, where you create a class that holds onto a DataFrame internally, may be fine for your own code, but it won’t interact well with the rest of the ecosystem so your code will be littered with lines extracting and repacking the underlying DataFrame.* \n",
    "> \n",
    "> *— Tom Augspurger,* [Modern Pandas \\(Part 2\\): Method Chaining](https://link.mail.beehiiv.com/ss/c/AJNVrU_uqSEvE7VehET4E0utaP9oG-x7MFzgOFbN4I4t_oyB8jPq94HB72ggL_gi9ZpEtkTEi2L4dQ4h9An1Xjwjh3QFYmnERFzybnIKbw73CHxBrbWOsUHmaIR5c3N2chSX38DCz_j2cTzMO9uGlJoSESCmoPduMe5G8PiyqP-X9o8JVP-ujyAi1b1nGg4Moe--WNNJTyh62G3NnVTWmewSnUDDg0UWTlkUlOVGZC8/41s/eX7tzooLQfKLVhBO3tBJeQ/h10/HI5Ad9tGgCbElzMlRXqmb_Yy2zStZvT67vEh2B4NyNY)\n",
    "\n",
    "With this concept in place, let us introduce today’s package… 🥁🥁🥁"
   ]
  },
  {
   "cell_type": "markdown",
   "id": "122168d3-baf9-41a7-a477-9c1f98070e51",
   "metadata": {},
   "source": [
    "---"
   ]
  },
  {
   "cell_type": "markdown",
   "id": "994cc1d4-20d0-49c9-adc5-d9bf6f4f8263",
   "metadata": {},
   "source": [
    "## 2️⃣  [pandas_flavor](http://pypi.org/project/pandas_flavor/): DIY custom DataFrame methods"
   ]
  },
  {
   "cell_type": "markdown",
   "id": "69b5cdf4-6e22-4802-a26f-e6170f8ce802",
   "metadata": {},
   "source": [
    "- 📆 Last updated: July 2023\n",
    "- ⬇️  Downloads: 53,651/week\n",
    "- ⚖️  License: MIT\n",
    "- 🐍 **[PyPI](https://link.mail.beehiiv.com/ss/c/Fu4EPqIapGgImIgza8sdTQvYhsB2waz_k6h-ZREnI3FCRd-8LH3wiQ5Bs4iH3BlEkD7YaZLPqW9LHPGkSSu_GmchoXYz8xATZsz-H7hkIU4GbJ1tj3cN0GLc27XENkpEF1X5BbcWOwNx-cwBQ4OoZQpS7Xot53USMnUPMOPiU376xSXY7MatyYrDUet8FlWvYzyTRgHuB1j_08HEwkFbbw/41s/eX7tzooLQfKLVhBO3tBJeQ/h13/NSjZ9CAsWAHrJZK8Y3BymCPWp6_n5AT7ofDa6hFPz7c)** |  ⭐ **[GitHub Stars: 288](https://link.mail.beehiiv.com/ss/c/yARi27edgic-gkALGf0FjbSX6TBbWsW4ousugOm2LmA6zByEbZn5o1frcSZ81o0KTvWpN21zV6lwKsN-c7fpL5EkLg90pfyA8lnymmzidEHpgpEysKS80YVchboMU6rcmg8uScbgDPkKkAt6XJtD0Ln8bV5TIB1GSxVKaIuUE88b_K7pGf_TCjK5MAUQE5qL7Tpi4bJNsplH8XIw3tS0nDD0o_6oyqs2Ff2q3XOcOTk/41s/eX7tzooLQfKLVhBO3tBJeQ/h14/T4ueBftVAFmASmydEiOnOocHKTbGgbvCvYjRhQc9m1o)**"
   ]
  },
  {
   "cell_type": "markdown",
   "id": "d5be0635-24df-47a6-a60b-3a51d4fba303",
   "metadata": {},
   "source": [
    "### 🔍 What is it?\n",
    "A simpler API was added in pandas 0.23 for registering methods (and accessors) to DataFrames and Series. This library makes it easy to add your own custom functionality to any DataFrame, or even to share a custom DataFrame analytics suite within your team by registering your analytics class under a single namespaced accessor."
   ]
  },
  {
   "cell_type": "markdown",
   "id": "53a8eadd-c165-41b9-840d-63c8b71899b0",
   "metadata": {},
   "source": [
    "### 📦 Install\n",
    "`pip install pandas-flavor`"
   ]
  },
  {
   "cell_type": "markdown",
   "id": "8f01f54c-2a6d-4f7a-afa3-bb39a166cd03",
   "metadata": {},
   "source": [
    "### 🛠️ Use\n",
    "Because it’s Christmas (in 23 days!), let’s make a working version of our Santa Claus example. As always, you can find the full notebook in the **[GitHub repo](https://link.mail.beehiiv.com/ss/c/yARi27edgic-gkALGf0FjXY-wcTEbkNSVzDLCI7TM8YGIJvZa3uDz0zvBGmvWTpK0l_bYmVsG3j80KfbDrUewcTkhW-GPOHqSrriKu3wG2duY-4JlvTj4dEFVzJt0dmBRKQfQa_yuTJWRFgaKksBNsxegLUQM-zc92SqvUTG-pILT8vVG5j0Wv2CsxQbPdqyV9RdwxirGTRJfsUAhel2UkMHf_lOXIFL6-fojENVKLg/41s/eX7tzooLQfKLVhBO3tBJeQ/h15/U4IXcpMJ2SEkuM-pejHeIj3MMx1F9h8ctTVqk7Tq14A)** for this advent calendar. Note that we’re using the wonderful **[Faker](https://link.mail.beehiiv.com/ss/c/8qwR6WebooK0eqCcIi3gruVrhASEkmRTZnoCe8ngT2-qYcN4-SsVTohY8fTwpD5YFRaY159LVncanhtqMqJq5votRoLnIGsfGUWGH1YtPeIhtqWzDN4RfYvJbEk_-8E8fWf2s9e7s1M4uy2bi4v8Pfhw3GWrICXyH8bNO7BEK_7XEwzLihnOuRiNOOg1MSYtvAVSFGIFU8CrhMM8Ey4qaQ/41s/eX7tzooLQfKLVhBO3tBJeQ/h16/RD-AbXgLT2nfTCcjlGOGhrQANCpAVVe56deDhrnYqQg)** package to generate some random names."
   ]
  },
  {
   "cell_type": "code",
   "execution_count": 1,
   "id": "1db9d6d8-5d2d-48b1-84c7-f299e7d017bd",
   "metadata": {},
   "outputs": [],
   "source": [
    "# Imports & setup\n",
    "import pandas as pd\n",
    "from faker import Faker\n",
    "\n",
    "fake = Faker()\n",
    "\n",
    "\n",
    "# A normal Python function, for now...\n",
    "\n",
    "\n",
    "def make(df: pd.DataFrame, item: str, n=4) -> pd.DataFrame:\n",
    "    \"\"\"Add a column called `item` to a pandas DataFrame, with n rows.\"\"\"\n",
    "    return df.assign(item=[fake.name() for i in range(n)])"
   ]
  },
  {
   "cell_type": "markdown",
   "id": "d0e08200-2485-483a-825d-4ebf4ad98df9",
   "metadata": {},
   "source": [
    "We can call this function on an empty DataFrame…"
   ]
  },
  {
   "cell_type": "code",
   "execution_count": 2,
   "id": "5f6be06b-998b-4c2a-850e-caf46696cfc1",
   "metadata": {},
   "outputs": [
    {
     "data": {
      "text/html": [
       "<div>\n",
       "<style scoped>\n",
       "    .dataframe tbody tr th:only-of-type {\n",
       "        vertical-align: middle;\n",
       "    }\n",
       "\n",
       "    .dataframe tbody tr th {\n",
       "        vertical-align: top;\n",
       "    }\n",
       "\n",
       "    .dataframe thead th {\n",
       "        text-align: right;\n",
       "    }\n",
       "</style>\n",
       "<table border=\"1\" class=\"dataframe\">\n",
       "  <thead>\n",
       "    <tr style=\"text-align: right;\">\n",
       "      <th></th>\n",
       "      <th>item</th>\n",
       "    </tr>\n",
       "  </thead>\n",
       "  <tbody>\n",
       "    <tr>\n",
       "      <th>0</th>\n",
       "      <td>Joshua Porter</td>\n",
       "    </tr>\n",
       "    <tr>\n",
       "      <th>1</th>\n",
       "      <td>Charles Rich</td>\n",
       "    </tr>\n",
       "    <tr>\n",
       "      <th>2</th>\n",
       "      <td>Amanda Liu</td>\n",
       "    </tr>\n",
       "    <tr>\n",
       "      <th>3</th>\n",
       "      <td>Meghan Ware</td>\n",
       "    </tr>\n",
       "    <tr>\n",
       "      <th>4</th>\n",
       "      <td>Brenda Travis</td>\n",
       "    </tr>\n",
       "  </tbody>\n",
       "</table>\n",
       "</div>"
      ],
      "text/plain": [
       "            item\n",
       "0  Joshua Porter\n",
       "1   Charles Rich\n",
       "2     Amanda Liu\n",
       "3    Meghan Ware\n",
       "4  Brenda Travis"
      ]
     },
     "execution_count": 2,
     "metadata": {},
     "output_type": "execute_result"
    }
   ],
   "source": [
    "# Pass the santa_claus DataFrame directly into the function\n",
    "santa_claus = pd.DataFrame()\n",
    "make(santa_claus, item=\"names\", n=5)"
   ]
  },
  {
   "cell_type": "markdown",
   "id": "849d095a-fed7-4e82-9dd6-1609ca9fd01a",
   "metadata": {},
   "source": [
    "…or we can do this using the .pipe() method:"
   ]
  },
  {
   "cell_type": "code",
   "execution_count": 3,
   "id": "93077753-8e31-4a82-ac73-60b976fd1c66",
   "metadata": {},
   "outputs": [
    {
     "data": {
      "text/html": [
       "<div>\n",
       "<style scoped>\n",
       "    .dataframe tbody tr th:only-of-type {\n",
       "        vertical-align: middle;\n",
       "    }\n",
       "\n",
       "    .dataframe tbody tr th {\n",
       "        vertical-align: top;\n",
       "    }\n",
       "\n",
       "    .dataframe thead th {\n",
       "        text-align: right;\n",
       "    }\n",
       "</style>\n",
       "<table border=\"1\" class=\"dataframe\">\n",
       "  <thead>\n",
       "    <tr style=\"text-align: right;\">\n",
       "      <th></th>\n",
       "      <th>item</th>\n",
       "    </tr>\n",
       "  </thead>\n",
       "  <tbody>\n",
       "    <tr>\n",
       "      <th>0</th>\n",
       "      <td>Kelly Browning</td>\n",
       "    </tr>\n",
       "    <tr>\n",
       "      <th>1</th>\n",
       "      <td>Sue Odom</td>\n",
       "    </tr>\n",
       "    <tr>\n",
       "      <th>2</th>\n",
       "      <td>Jennifer Brown</td>\n",
       "    </tr>\n",
       "    <tr>\n",
       "      <th>3</th>\n",
       "      <td>Renee Evans</td>\n",
       "    </tr>\n",
       "  </tbody>\n",
       "</table>\n",
       "</div>"
      ],
      "text/plain": [
       "             item\n",
       "0  Kelly Browning\n",
       "1        Sue Odom\n",
       "2  Jennifer Brown\n",
       "3     Renee Evans"
      ]
     },
     "execution_count": 3,
     "metadata": {},
     "output_type": "execute_result"
    }
   ],
   "source": [
    "# Pipe the santa_claus DataFrame into the function using .pipe()\n",
    "santa_claus.pipe(make, item=\"list\")"
   ]
  },
  {
   "cell_type": "markdown",
   "id": "9c0d962c-2b31-4fb7-8063-071ec35933f1",
   "metadata": {},
   "source": [
    "Time for some 🎩 **pandas_flavor magic** 🪄, let’s add a custom pandas method called **.make()** by adding a single decorator to our function:"
   ]
  },
  {
   "cell_type": "code",
   "execution_count": 4,
   "id": "a1e37c90-8bd0-43bd-b38e-da2e6805eef1",
   "metadata": {},
   "outputs": [],
   "source": [
    "import pandas_flavor as pf\n",
    "\n",
    "\n",
    "@pf.register_dataframe_method\n",
    "def make(df, item, n=4):\n",
    "    return df.assign(item=[fake.name() for i in range(n)])"
   ]
  },
  {
   "cell_type": "code",
   "execution_count": 5,
   "id": "772e34e4-f85c-41c5-9f06-09382ca7e131",
   "metadata": {},
   "outputs": [
    {
     "data": {
      "text/html": [
       "<div>\n",
       "<style scoped>\n",
       "    .dataframe tbody tr th:only-of-type {\n",
       "        vertical-align: middle;\n",
       "    }\n",
       "\n",
       "    .dataframe tbody tr th {\n",
       "        vertical-align: top;\n",
       "    }\n",
       "\n",
       "    .dataframe thead th {\n",
       "        text-align: right;\n",
       "    }\n",
       "</style>\n",
       "<table border=\"1\" class=\"dataframe\">\n",
       "  <thead>\n",
       "    <tr style=\"text-align: right;\">\n",
       "      <th></th>\n",
       "      <th>item</th>\n",
       "    </tr>\n",
       "  </thead>\n",
       "  <tbody>\n",
       "    <tr>\n",
       "      <th>0</th>\n",
       "      <td>Michael Harrison</td>\n",
       "    </tr>\n",
       "    <tr>\n",
       "      <th>1</th>\n",
       "      <td>Steven Martin</td>\n",
       "    </tr>\n",
       "  </tbody>\n",
       "</table>\n",
       "</div>"
      ],
      "text/plain": [
       "               item\n",
       "0  Michael Harrison\n",
       "1     Steven Martin"
      ]
     },
     "execution_count": 5,
     "metadata": {},
     "output_type": "execute_result"
    }
   ],
   "source": [
    "# Use pandas_flavor to define a new .make() method on all DataFrames\n",
    "santa_claus.make(item=\"list\", n=2)"
   ]
  },
  {
   "cell_type": "markdown",
   "id": "83b1618b-b0ec-488d-aee6-a1988bc1167d",
   "metadata": {},
   "source": [
    "#### Write functions for `make()`, `check()`, `find_out()` and `come_to()`"
   ]
  },
  {
   "cell_type": "code",
   "execution_count": 6,
   "id": "482dccd2-19aa-4af6-a331-649aa1ed1894",
   "metadata": {},
   "outputs": [],
   "source": [
    "import time\n",
    "import random\n",
    "from tqdm import tqdm"
   ]
  },
  {
   "cell_type": "code",
   "execution_count": 7,
   "id": "2cde1c63-cea0-4594-a983-caf6c5f8feb5",
   "metadata": {},
   "outputs": [
    {
     "name": "stderr",
     "output_type": "stream",
     "text": [
      "/var/folders/30/2pzsy6kx1x5dx_zn6n8h0w8r0000gn/T/ipykernel_45897/3917680378.py:1: UserWarning: registration of accessor <class 'pandas_flavor.register.register_dataframe_method.<locals>.inner.<locals>.AccessorMethod'> under name 'make' for type <class 'pandas.core.frame.DataFrame'> is overriding a preexisting attribute with the same name.\n",
      "  @pf.register_dataframe_method\n"
     ]
    }
   ],
   "source": [
    "@pf.register_dataframe_method\n",
    "def make(df: pd.DataFrame, item: str, n: int = 4) -> pd.DataFrame:\n",
    "    df = df.copy()\n",
    "    if item == \"list\":\n",
    "        df[item] = [fake.name() for i in range(n)]\n",
    "    else:\n",
    "        df[item] = [f\"{item}{i}\" for i in range(n)]\n",
    "    return df"
   ]
  },
  {
   "cell_type": "code",
   "execution_count": 8,
   "id": "0d9dc89a-8186-433a-ba3d-802bddda65e8",
   "metadata": {},
   "outputs": [],
   "source": [
    "santa_claus = pd.DataFrame()"
   ]
  },
  {
   "cell_type": "code",
   "execution_count": 9,
   "id": "394389a0-1ad6-45db-86ef-fe1e55d36e12",
   "metadata": {},
   "outputs": [
    {
     "data": {
      "text/html": [
       "<div>\n",
       "<style scoped>\n",
       "    .dataframe tbody tr th:only-of-type {\n",
       "        vertical-align: middle;\n",
       "    }\n",
       "\n",
       "    .dataframe tbody tr th {\n",
       "        vertical-align: top;\n",
       "    }\n",
       "\n",
       "    .dataframe thead th {\n",
       "        text-align: right;\n",
       "    }\n",
       "</style>\n",
       "<table border=\"1\" class=\"dataframe\">\n",
       "  <thead>\n",
       "    <tr style=\"text-align: right;\">\n",
       "      <th></th>\n",
       "      <th>list</th>\n",
       "    </tr>\n",
       "  </thead>\n",
       "  <tbody>\n",
       "    <tr>\n",
       "      <th>0</th>\n",
       "      <td>Taylor Rubio</td>\n",
       "    </tr>\n",
       "    <tr>\n",
       "      <th>1</th>\n",
       "      <td>Robert Jones</td>\n",
       "    </tr>\n",
       "    <tr>\n",
       "      <th>2</th>\n",
       "      <td>Tiffany Nelson</td>\n",
       "    </tr>\n",
       "    <tr>\n",
       "      <th>3</th>\n",
       "      <td>Heather Wade</td>\n",
       "    </tr>\n",
       "  </tbody>\n",
       "</table>\n",
       "</div>"
      ],
      "text/plain": [
       "             list\n",
       "0    Taylor Rubio\n",
       "1    Robert Jones\n",
       "2  Tiffany Nelson\n",
       "3    Heather Wade"
      ]
     },
     "execution_count": 9,
     "metadata": {},
     "output_type": "execute_result"
    }
   ],
   "source": [
    "# Our new make() function generates names if you specify \"list\"...\n",
    "make(santa_claus, \"list\")"
   ]
  },
  {
   "cell_type": "code",
   "execution_count": 10,
   "id": "7e9423c1-2571-46e9-9ef5-12dd619a4775",
   "metadata": {},
   "outputs": [
    {
     "data": {
      "text/html": [
       "<div>\n",
       "<style scoped>\n",
       "    .dataframe tbody tr th:only-of-type {\n",
       "        vertical-align: middle;\n",
       "    }\n",
       "\n",
       "    .dataframe tbody tr th {\n",
       "        vertical-align: top;\n",
       "    }\n",
       "\n",
       "    .dataframe thead th {\n",
       "        text-align: right;\n",
       "    }\n",
       "</style>\n",
       "<table border=\"1\" class=\"dataframe\">\n",
       "  <thead>\n",
       "    <tr style=\"text-align: right;\">\n",
       "      <th></th>\n",
       "      <th>sandwich</th>\n",
       "    </tr>\n",
       "  </thead>\n",
       "  <tbody>\n",
       "    <tr>\n",
       "      <th>0</th>\n",
       "      <td>sandwich0</td>\n",
       "    </tr>\n",
       "    <tr>\n",
       "      <th>1</th>\n",
       "      <td>sandwich1</td>\n",
       "    </tr>\n",
       "    <tr>\n",
       "      <th>2</th>\n",
       "      <td>sandwich2</td>\n",
       "    </tr>\n",
       "    <tr>\n",
       "      <th>3</th>\n",
       "      <td>sandwich3</td>\n",
       "    </tr>\n",
       "  </tbody>\n",
       "</table>\n",
       "</div>"
      ],
      "text/plain": [
       "    sandwich\n",
       "0  sandwich0\n",
       "1  sandwich1\n",
       "2  sandwich2\n",
       "3  sandwich3"
      ]
     },
     "execution_count": 10,
     "metadata": {},
     "output_type": "execute_result"
    }
   ],
   "source": [
    "# ...or it generates placeholders otherwise\n",
    "make(santa_claus, \"sandwich\")"
   ]
  },
  {
   "cell_type": "code",
   "execution_count": 11,
   "id": "a4865675-3b82-43bc-8c82-d3e5668fef9c",
   "metadata": {},
   "outputs": [],
   "source": [
    "@pf.register_dataframe_method\n",
    "def check(df: int, n: int = 1) -> pd.DataFrame:\n",
    "    for _ in range(n):\n",
    "        for _, row in tqdm(df.iterrows(), total=len(df)):\n",
    "            time.sleep(0.2)\n",
    "    return df"
   ]
  },
  {
   "cell_type": "code",
   "execution_count": 12,
   "id": "db94d978-589e-4d5c-a0c1-bbfc5afed22c",
   "metadata": {},
   "outputs": [
    {
     "name": "stderr",
     "output_type": "stream",
     "text": [
      "100%|██████████████████████████████████████████████████████████████████████████████████████████████████████████████████████████████████████████████████████████████████████████████████████████████████████████████████| 4/4 [00:00<00:00,  4.83it/s]\n",
      "100%|██████████████████████████████████████████████████████████████████████████████████████████████████████████████████████████████████████████████████████████████████████████████████████████████████████████████████| 4/4 [00:00<00:00,  4.85it/s]\n"
     ]
    },
    {
     "data": {
      "text/html": [
       "<div>\n",
       "<style scoped>\n",
       "    .dataframe tbody tr th:only-of-type {\n",
       "        vertical-align: middle;\n",
       "    }\n",
       "\n",
       "    .dataframe tbody tr th {\n",
       "        vertical-align: top;\n",
       "    }\n",
       "\n",
       "    .dataframe thead th {\n",
       "        text-align: right;\n",
       "    }\n",
       "</style>\n",
       "<table border=\"1\" class=\"dataframe\">\n",
       "  <thead>\n",
       "    <tr style=\"text-align: right;\">\n",
       "      <th></th>\n",
       "      <th>list</th>\n",
       "    </tr>\n",
       "  </thead>\n",
       "  <tbody>\n",
       "    <tr>\n",
       "      <th>0</th>\n",
       "      <td>Matthew Velazquez</td>\n",
       "    </tr>\n",
       "    <tr>\n",
       "      <th>1</th>\n",
       "      <td>Faith Reeves</td>\n",
       "    </tr>\n",
       "    <tr>\n",
       "      <th>2</th>\n",
       "      <td>David Arnold</td>\n",
       "    </tr>\n",
       "    <tr>\n",
       "      <th>3</th>\n",
       "      <td>Rodney Sanders</td>\n",
       "    </tr>\n",
       "  </tbody>\n",
       "</table>\n",
       "</div>"
      ],
      "text/plain": [
       "                list\n",
       "0  Matthew Velazquez\n",
       "1       Faith Reeves\n",
       "2       David Arnold\n",
       "3     Rodney Sanders"
      ]
     },
     "execution_count": 12,
     "metadata": {},
     "output_type": "execute_result"
    }
   ],
   "source": [
    "# The check() function runs through each row with theatrical rigour\n",
    "check(make(santa_claus, \"list\"), n=2)"
   ]
  },
  {
   "cell_type": "code",
   "execution_count": 13,
   "id": "3e2df83d-4ef1-464c-a6a4-4772afec1c88",
   "metadata": {},
   "outputs": [],
   "source": [
    "@pf.register_dataframe_method\n",
    "def find_out(df, status):\n",
    "    options = status.split(\"_or_\")\n",
    "    df[\"status\"] = [random.choice(options) for _ in range(len(df))]\n",
    "    return df"
   ]
  },
  {
   "cell_type": "code",
   "execution_count": 14,
   "id": "1a536b6e-4854-450e-84b9-12e93a564d3c",
   "metadata": {},
   "outputs": [
    {
     "name": "stderr",
     "output_type": "stream",
     "text": [
      "100%|██████████████████████████████████████████████████████████████████████████████████████████████████████████████████████████████████████████████████████████████████████████████████████████████████████████████████| 4/4 [00:00<00:00,  4.86it/s]\n",
      "100%|██████████████████████████████████████████████████████████████████████████████████████████████████████████████████████████████████████████████████████████████████████████████████████████████████████████████████| 4/4 [00:00<00:00,  4.84it/s]\n"
     ]
    },
    {
     "data": {
      "text/html": [
       "<div>\n",
       "<style scoped>\n",
       "    .dataframe tbody tr th:only-of-type {\n",
       "        vertical-align: middle;\n",
       "    }\n",
       "\n",
       "    .dataframe tbody tr th {\n",
       "        vertical-align: top;\n",
       "    }\n",
       "\n",
       "    .dataframe thead th {\n",
       "        text-align: right;\n",
       "    }\n",
       "</style>\n",
       "<table border=\"1\" class=\"dataframe\">\n",
       "  <thead>\n",
       "    <tr style=\"text-align: right;\">\n",
       "      <th></th>\n",
       "      <th>list</th>\n",
       "      <th>status</th>\n",
       "    </tr>\n",
       "  </thead>\n",
       "  <tbody>\n",
       "    <tr>\n",
       "      <th>0</th>\n",
       "      <td>Angela Smith</td>\n",
       "      <td>naughty</td>\n",
       "    </tr>\n",
       "    <tr>\n",
       "      <th>1</th>\n",
       "      <td>Nicholas Baxter</td>\n",
       "      <td>nice</td>\n",
       "    </tr>\n",
       "    <tr>\n",
       "      <th>2</th>\n",
       "      <td>Robert Cooper</td>\n",
       "      <td>naughty</td>\n",
       "    </tr>\n",
       "    <tr>\n",
       "      <th>3</th>\n",
       "      <td>Nicole Robinson</td>\n",
       "      <td>nice</td>\n",
       "    </tr>\n",
       "  </tbody>\n",
       "</table>\n",
       "</div>"
      ],
      "text/plain": [
       "              list   status\n",
       "0     Angela Smith  naughty\n",
       "1  Nicholas Baxter     nice\n",
       "2    Robert Cooper  naughty\n",
       "3  Nicole Robinson     nice"
      ]
     },
     "execution_count": 14,
     "metadata": {},
     "output_type": "execute_result"
    }
   ],
   "source": [
    "# The find_out() function randomly allocates a status to each row based on the provided string\n",
    "find_out(check(make(santa_claus, \"list\"), n=2), status=\"naughty_or_nice\")"
   ]
  },
  {
   "cell_type": "code",
   "execution_count": 15,
   "id": "dcb18bbd-f583-4637-8b70-8dfeb4e02aa7",
   "metadata": {},
   "outputs": [],
   "source": [
    "@pf.register_dataframe_method\n",
    "def come_to(df, place):\n",
    "    df[\"destination\"] = place\n",
    "    return df"
   ]
  },
  {
   "cell_type": "code",
   "execution_count": 16,
   "id": "1ed1950c-de1c-42c9-991e-0e1e74e736e9",
   "metadata": {},
   "outputs": [
    {
     "name": "stderr",
     "output_type": "stream",
     "text": [
      "100%|██████████████████████████████████████████████████████████████████████████████████████████████████████████████████████████████████████████████████████████████████████████████████████████████████████████████████| 4/4 [00:00<00:00,  4.84it/s]\n",
      "100%|██████████████████████████████████████████████████████████████████████████████████████████████████████████████████████████████████████████████████████████████████████████████████████████████████████████████████| 4/4 [00:00<00:00,  4.75it/s]\n"
     ]
    },
    {
     "data": {
      "text/html": [
       "<div>\n",
       "<style scoped>\n",
       "    .dataframe tbody tr th:only-of-type {\n",
       "        vertical-align: middle;\n",
       "    }\n",
       "\n",
       "    .dataframe tbody tr th {\n",
       "        vertical-align: top;\n",
       "    }\n",
       "\n",
       "    .dataframe thead th {\n",
       "        text-align: right;\n",
       "    }\n",
       "</style>\n",
       "<table border=\"1\" class=\"dataframe\">\n",
       "  <thead>\n",
       "    <tr style=\"text-align: right;\">\n",
       "      <th></th>\n",
       "      <th>list</th>\n",
       "      <th>status</th>\n",
       "      <th>destination</th>\n",
       "    </tr>\n",
       "  </thead>\n",
       "  <tbody>\n",
       "    <tr>\n",
       "      <th>0</th>\n",
       "      <td>Anna Edwards</td>\n",
       "      <td>nice</td>\n",
       "      <td>town</td>\n",
       "    </tr>\n",
       "    <tr>\n",
       "      <th>1</th>\n",
       "      <td>James Lewis</td>\n",
       "      <td>nice</td>\n",
       "      <td>town</td>\n",
       "    </tr>\n",
       "    <tr>\n",
       "      <th>2</th>\n",
       "      <td>Stephanie Garcia</td>\n",
       "      <td>nice</td>\n",
       "      <td>town</td>\n",
       "    </tr>\n",
       "    <tr>\n",
       "      <th>3</th>\n",
       "      <td>Susan Mccoy</td>\n",
       "      <td>naughty</td>\n",
       "      <td>town</td>\n",
       "    </tr>\n",
       "  </tbody>\n",
       "</table>\n",
       "</div>"
      ],
      "text/plain": [
       "               list   status destination\n",
       "0      Anna Edwards     nice        town\n",
       "1       James Lewis     nice        town\n",
       "2  Stephanie Garcia     nice        town\n",
       "3       Susan Mccoy  naughty        town"
      ]
     },
     "execution_count": 16,
     "metadata": {},
     "output_type": "execute_result"
    }
   ],
   "source": [
    "# The come_to() function adds a \"destination\" column containing the specified value\n",
    "come_to(find_out(check(make(santa_claus, \"list\"), n=2), status=\"naughty_or_nice\"), \"town\")"
   ]
  },
  {
   "cell_type": "markdown",
   "id": "71ca0657-a074-452d-988f-5d7fa4db24cc",
   "metadata": {},
   "source": [
    "#### Let's put it all together to unlock the sweet taste of 🐼 idiomatic pandas 🐼 "
   ]
  },
  {
   "cell_type": "code",
   "execution_count": 17,
   "id": "244eb525-8484-445b-a2c1-7d4b426cd500",
   "metadata": {},
   "outputs": [
    {
     "name": "stderr",
     "output_type": "stream",
     "text": [
      "100%|██████████████████████████████████████████████████████████████████████████████████████████████████████████████████████████████████████████████████████████████████████████████████████████████████████████████████| 4/4 [00:00<00:00,  4.83it/s]\n",
      "100%|██████████████████████████████████████████████████████████████████████████████████████████████████████████████████████████████████████████████████████████████████████████████████████████████████████████████████| 4/4 [00:00<00:00,  4.91it/s]\n"
     ]
    },
    {
     "data": {
      "text/html": [
       "<div>\n",
       "<style scoped>\n",
       "    .dataframe tbody tr th:only-of-type {\n",
       "        vertical-align: middle;\n",
       "    }\n",
       "\n",
       "    .dataframe tbody tr th {\n",
       "        vertical-align: top;\n",
       "    }\n",
       "\n",
       "    .dataframe thead th {\n",
       "        text-align: right;\n",
       "    }\n",
       "</style>\n",
       "<table border=\"1\" class=\"dataframe\">\n",
       "  <thead>\n",
       "    <tr style=\"text-align: right;\">\n",
       "      <th></th>\n",
       "      <th>list</th>\n",
       "      <th>status</th>\n",
       "      <th>destination</th>\n",
       "    </tr>\n",
       "  </thead>\n",
       "  <tbody>\n",
       "    <tr>\n",
       "      <th>0</th>\n",
       "      <td>April Hamilton</td>\n",
       "      <td>naughty</td>\n",
       "      <td>town</td>\n",
       "    </tr>\n",
       "    <tr>\n",
       "      <th>1</th>\n",
       "      <td>Jeremy Morrison</td>\n",
       "      <td>naughty</td>\n",
       "      <td>town</td>\n",
       "    </tr>\n",
       "    <tr>\n",
       "      <th>2</th>\n",
       "      <td>Ashley Sanchez</td>\n",
       "      <td>naughty</td>\n",
       "      <td>town</td>\n",
       "    </tr>\n",
       "    <tr>\n",
       "      <th>3</th>\n",
       "      <td>Carl Stanley</td>\n",
       "      <td>nice</td>\n",
       "      <td>town</td>\n",
       "    </tr>\n",
       "  </tbody>\n",
       "</table>\n",
       "</div>"
      ],
      "text/plain": [
       "              list   status destination\n",
       "0   April Hamilton  naughty        town\n",
       "1  Jeremy Morrison  naughty        town\n",
       "2   Ashley Sanchez  naughty        town\n",
       "3     Carl Stanley     nice        town"
      ]
     },
     "execution_count": 17,
     "metadata": {},
     "output_type": "execute_result"
    }
   ],
   "source": [
    "# Here's the SPAGHETTI code version\n",
    "santa_claus = pd.DataFrame()\n",
    "come_to(\n",
    "    find_out(\n",
    "        check(\n",
    "            make(santa_claus, \"list\"), n=2),\n",
    "            \"naughty_or_nice\"\n",
    "    ),\n",
    "    \"town\"\n",
    ")"
   ]
  },
  {
   "cell_type": "code",
   "execution_count": 18,
   "id": "af731b3e-b12e-4c73-b6fa-32b108790680",
   "metadata": {},
   "outputs": [
    {
     "name": "stderr",
     "output_type": "stream",
     "text": [
      "100%|██████████████████████████████████████████████████████████████████████████████████████████████████████████████████████████████████████████████████████████████████████████████████████████████████████████████████| 4/4 [00:00<00:00,  4.85it/s]\n",
      "100%|██████████████████████████████████████████████████████████████████████████████████████████████████████████████████████████████████████████████████████████████████████████████████████████████████████████████████| 4/4 [00:00<00:00,  4.84it/s]\n"
     ]
    },
    {
     "data": {
      "text/html": [
       "<div>\n",
       "<style scoped>\n",
       "    .dataframe tbody tr th:only-of-type {\n",
       "        vertical-align: middle;\n",
       "    }\n",
       "\n",
       "    .dataframe tbody tr th {\n",
       "        vertical-align: top;\n",
       "    }\n",
       "\n",
       "    .dataframe thead th {\n",
       "        text-align: right;\n",
       "    }\n",
       "</style>\n",
       "<table border=\"1\" class=\"dataframe\">\n",
       "  <thead>\n",
       "    <tr style=\"text-align: right;\">\n",
       "      <th></th>\n",
       "      <th>list</th>\n",
       "      <th>status</th>\n",
       "      <th>destination</th>\n",
       "    </tr>\n",
       "  </thead>\n",
       "  <tbody>\n",
       "    <tr>\n",
       "      <th>0</th>\n",
       "      <td>Cheryl Roberts</td>\n",
       "      <td>naughty</td>\n",
       "      <td>town</td>\n",
       "    </tr>\n",
       "    <tr>\n",
       "      <th>1</th>\n",
       "      <td>Douglas Rogers</td>\n",
       "      <td>nice</td>\n",
       "      <td>town</td>\n",
       "    </tr>\n",
       "    <tr>\n",
       "      <th>2</th>\n",
       "      <td>Brandon Hatfield</td>\n",
       "      <td>naughty</td>\n",
       "      <td>town</td>\n",
       "    </tr>\n",
       "    <tr>\n",
       "      <th>3</th>\n",
       "      <td>Marie Jones</td>\n",
       "      <td>naughty</td>\n",
       "      <td>town</td>\n",
       "    </tr>\n",
       "  </tbody>\n",
       "</table>\n",
       "</div>"
      ],
      "text/plain": [
       "               list   status destination\n",
       "0    Cheryl Roberts  naughty        town\n",
       "1    Douglas Rogers     nice        town\n",
       "2  Brandon Hatfield  naughty        town\n",
       "3       Marie Jones  naughty        town"
      ]
     },
     "execution_count": 18,
     "metadata": {},
     "output_type": "execute_result"
    }
   ],
   "source": [
    "# Here's the HYPE-man pandas version\n",
    "santa_claus = pd.DataFrame()\n",
    "made_list = make(santa_claus, \"list\")\n",
    "checked_list = check(made_list, n=2)\n",
    "found_out = find_out(checked_list, \"naughty_or_nice\")\n",
    "arrived = come_to(found_out, \"town\")\n",
    "arrived"
   ]
  },
  {
   "cell_type": "code",
   "execution_count": 19,
   "id": "96784e78-bf2b-406f-a0ab-5136b46e6e93",
   "metadata": {},
   "outputs": [
    {
     "name": "stderr",
     "output_type": "stream",
     "text": [
      "100%|██████████████████████████████████████████████████████████████████████████████████████████████████████████████████████████████████████████████████████████████████████████████████████████████████████████████████| 4/4 [00:00<00:00,  4.78it/s]\n",
      "100%|██████████████████████████████████████████████████████████████████████████████████████████████████████████████████████████████████████████████████████████████████████████████████████████████████████████████████| 4/4 [00:00<00:00,  4.85it/s]\n"
     ]
    },
    {
     "data": {
      "text/html": [
       "<div>\n",
       "<style scoped>\n",
       "    .dataframe tbody tr th:only-of-type {\n",
       "        vertical-align: middle;\n",
       "    }\n",
       "\n",
       "    .dataframe tbody tr th {\n",
       "        vertical-align: top;\n",
       "    }\n",
       "\n",
       "    .dataframe thead th {\n",
       "        text-align: right;\n",
       "    }\n",
       "</style>\n",
       "<table border=\"1\" class=\"dataframe\">\n",
       "  <thead>\n",
       "    <tr style=\"text-align: right;\">\n",
       "      <th></th>\n",
       "      <th>list</th>\n",
       "      <th>status</th>\n",
       "      <th>destination</th>\n",
       "    </tr>\n",
       "  </thead>\n",
       "  <tbody>\n",
       "    <tr>\n",
       "      <th>0</th>\n",
       "      <td>Kevin Newman</td>\n",
       "      <td>nice</td>\n",
       "      <td>town</td>\n",
       "    </tr>\n",
       "    <tr>\n",
       "      <th>1</th>\n",
       "      <td>Jeffery Moore</td>\n",
       "      <td>nice</td>\n",
       "      <td>town</td>\n",
       "    </tr>\n",
       "    <tr>\n",
       "      <th>2</th>\n",
       "      <td>Jennifer Vargas</td>\n",
       "      <td>nice</td>\n",
       "      <td>town</td>\n",
       "    </tr>\n",
       "    <tr>\n",
       "      <th>3</th>\n",
       "      <td>Joel Arias</td>\n",
       "      <td>nice</td>\n",
       "      <td>town</td>\n",
       "    </tr>\n",
       "  </tbody>\n",
       "</table>\n",
       "</div>"
      ],
      "text/plain": [
       "              list status destination\n",
       "0     Kevin Newman   nice        town\n",
       "1    Jeffery Moore   nice        town\n",
       "2  Jennifer Vargas   nice        town\n",
       "3       Joel Arias   nice        town"
      ]
     },
     "execution_count": 19,
     "metadata": {},
     "output_type": "execute_result"
    }
   ],
   "source": [
    "# Here's the .pipe() version\n",
    "(\n",
    "    pd.DataFrame()\n",
    "    .pipe(make, \"list\")\n",
    "    .pipe(check, n=2)\n",
    "    .pipe(find_out, \"naughty_or_nice\")\n",
    "    .pipe(come_to, \"town\")\n",
    ")"
   ]
  },
  {
   "cell_type": "code",
   "execution_count": 20,
   "id": "4b8291d8-a985-4ec8-a893-5e9e64ebf387",
   "metadata": {},
   "outputs": [
    {
     "name": "stderr",
     "output_type": "stream",
     "text": [
      "100%|██████████████████████████████████████████████████████████████████████████████████████████████████████████████████████████████████████████████████████████████████████████████████████████████████████████████████| 4/4 [00:00<00:00,  4.87it/s]\n",
      "100%|██████████████████████████████████████████████████████████████████████████████████████████████████████████████████████████████████████████████████████████████████████████████████████████████████████████████████| 4/4 [00:00<00:00,  4.82it/s]\n"
     ]
    },
    {
     "data": {
      "text/html": [
       "<div>\n",
       "<style scoped>\n",
       "    .dataframe tbody tr th:only-of-type {\n",
       "        vertical-align: middle;\n",
       "    }\n",
       "\n",
       "    .dataframe tbody tr th {\n",
       "        vertical-align: top;\n",
       "    }\n",
       "\n",
       "    .dataframe thead th {\n",
       "        text-align: right;\n",
       "    }\n",
       "</style>\n",
       "<table border=\"1\" class=\"dataframe\">\n",
       "  <thead>\n",
       "    <tr style=\"text-align: right;\">\n",
       "      <th></th>\n",
       "      <th>list</th>\n",
       "      <th>status</th>\n",
       "      <th>destination</th>\n",
       "    </tr>\n",
       "  </thead>\n",
       "  <tbody>\n",
       "    <tr>\n",
       "      <th>0</th>\n",
       "      <td>Lindsey Smith</td>\n",
       "      <td>naughty</td>\n",
       "      <td>town</td>\n",
       "    </tr>\n",
       "    <tr>\n",
       "      <th>1</th>\n",
       "      <td>Hunter Robinson</td>\n",
       "      <td>naughty</td>\n",
       "      <td>town</td>\n",
       "    </tr>\n",
       "    <tr>\n",
       "      <th>2</th>\n",
       "      <td>Ronald Li</td>\n",
       "      <td>nice</td>\n",
       "      <td>town</td>\n",
       "    </tr>\n",
       "    <tr>\n",
       "      <th>3</th>\n",
       "      <td>Thomas Hoover</td>\n",
       "      <td>nice</td>\n",
       "      <td>town</td>\n",
       "    </tr>\n",
       "  </tbody>\n",
       "</table>\n",
       "</div>"
      ],
      "text/plain": [
       "              list   status destination\n",
       "0    Lindsey Smith  naughty        town\n",
       "1  Hunter Robinson  naughty        town\n",
       "2        Ronald Li     nice        town\n",
       "3    Thomas Hoover     nice        town"
      ]
     },
     "execution_count": 20,
     "metadata": {},
     "output_type": "execute_result"
    }
   ],
   "source": [
    "# Finally, here's the pandas_flavor version\n",
    "santa_claus = pd.DataFrame()\n",
    "(\n",
    "    santa_claus\n",
    "    .make(\"list\")\n",
    "    .check(n=2)\n",
    "    .find_out(\"naughty_or_nice\")\n",
    "    .come_to(\"town\")\n",
    ")"
   ]
  },
  {
   "cell_type": "code",
   "execution_count": 21,
   "id": "04a1fb85-2531-4002-9e0f-d6b7d1fbcc05",
   "metadata": {},
   "outputs": [
    {
     "name": "stderr",
     "output_type": "stream",
     "text": [
      "100%|██████████████████████████████████████████████████████████████████████████████████████████████████████████████████████████████████████████████████████████████████████████████████████████████████████████████████| 4/4 [00:00<00:00,  4.85it/s]\n"
     ]
    },
    {
     "data": {
      "text/html": [
       "<div>\n",
       "<style scoped>\n",
       "    .dataframe tbody tr th:only-of-type {\n",
       "        vertical-align: middle;\n",
       "    }\n",
       "\n",
       "    .dataframe tbody tr th {\n",
       "        vertical-align: top;\n",
       "    }\n",
       "\n",
       "    .dataframe thead th {\n",
       "        text-align: right;\n",
       "    }\n",
       "</style>\n",
       "<table border=\"1\" class=\"dataframe\">\n",
       "  <thead>\n",
       "    <tr style=\"text-align: right;\">\n",
       "      <th></th>\n",
       "      <th>sandwich</th>\n",
       "      <th>status</th>\n",
       "      <th>destination</th>\n",
       "    </tr>\n",
       "  </thead>\n",
       "  <tbody>\n",
       "    <tr>\n",
       "      <th>0</th>\n",
       "      <td>sandwich0</td>\n",
       "      <td>ham</td>\n",
       "      <td>PyCon</td>\n",
       "    </tr>\n",
       "    <tr>\n",
       "      <th>1</th>\n",
       "      <td>sandwich1</td>\n",
       "      <td>vegetarian</td>\n",
       "      <td>PyCon</td>\n",
       "    </tr>\n",
       "    <tr>\n",
       "      <th>2</th>\n",
       "      <td>sandwich2</td>\n",
       "      <td>vegetarian</td>\n",
       "      <td>PyCon</td>\n",
       "    </tr>\n",
       "    <tr>\n",
       "      <th>3</th>\n",
       "      <td>sandwich3</td>\n",
       "      <td>turkey</td>\n",
       "      <td>PyCon</td>\n",
       "    </tr>\n",
       "  </tbody>\n",
       "</table>\n",
       "</div>"
      ],
      "text/plain": [
       "    sandwich      status destination\n",
       "0  sandwich0         ham       PyCon\n",
       "1  sandwich1  vegetarian       PyCon\n",
       "2  sandwich2  vegetarian       PyCon\n",
       "3  sandwich3      turkey       PyCon"
      ]
     },
     "execution_count": 21,
     "metadata": {},
     "output_type": "execute_result"
    }
   ],
   "source": [
    "# 🎅🏻 What else could Santa do with these reusable component methods? 🥪\n",
    "santa_claus = pd.DataFrame()\n",
    "(\n",
    "    santa_claus\n",
    "    .make(\"sandwich\")\n",
    "    .check(n=1)\n",
    "    .find_out(\"ham_or_turkey_or_vegetarian\")\n",
    "    .come_to(\"PyCon\")\n",
    ")"
   ]
  },
  {
   "cell_type": "markdown",
   "id": "8c552119-3fec-45fe-a389-17e1e54eaa26",
   "metadata": {},
   "source": [
    "---"
   ]
  },
  {
   "cell_type": "markdown",
   "id": "d00c8868-c89e-48ec-9346-a8a29954d216",
   "metadata": {},
   "source": [
    "<div class=\"alert alert-block alert-success\">\n",
    "<h1>🎊🎄  Congratulations!  🐍🚀 </h1>\n",
    "\n",
    "<p>\n",
    "    👤 This notebook has been made by <a href=\"https://twitter.com/john_sandall\">@John_Sandall</a> and the team at <a href=\"https://twitter.com/CoefficientData\">@CoefficientData</a>. We run training workshops in Python, data science and data engineering.\n",
    "</p><br/>\n",
    "\n",
    "<p>\n",
    "    🎓 If you are interested in registering for our <strong>paid workshops in Python for data science and engineering</strong>, you can <a href=\"https://coefficient.ai/learn-python\">sign up to our workshops mailing list here</a>.\n",
    "</p><br/>\n",
    "\n",
    "<p>\n",
    "    🎬 You can follow my <a href=\"https://github.com/pydatabristol/workshops/tree/master/workshop_2019_10_28_first_steps\"><em>First Steps with Python</em></a> and <a href=\"https://github.com/pydatabristol/workshops/tree/master/workshop_2020_02_27_first_steps_with_pandas\"><em>First Steps with pandas</em></a> workshops for free as part of <a href=\"https://www.meetup.com/PyData-Bristol/\">PyData Bristol's</a> Zero To Hero workshop series. If you'd like to learn more <strong>Jupyter tips &amp; tricks</strong> you may be interested in my event with Ben Sparks from <a href=\"http://bit.ly/Numberphile_Sub\">Numberphile</a> where we explored simulating viral outbreaks with <strong>SIR models</strong>, <strong>interactive Jupyter Widgets</strong> and <strong>animated matplotlib charts</strong> in <a href=\"https://www.crowdcast.io/e/pydata1/register\"><em>Building An Interactive Coronavirus Model In Jupyter w/ Ben Sparks</em></a>.\n",
    "</p><br/>\n",
    "\n",
    "<p>\n",
    "    💼 I am the Founder of data science consultancy <a href=\"https://coefficient.ai/\">Coefficient</a>. If you would like to work with us, our team can help you with your <a href=\"https://www.youtube.com/watch?v=qBvO3fyl1lk\">data science</a>, <a href=\"https://coefficient.ai/#services-page\">software engineering</a> and <a href=\"https://coefficient.ai/#machine-learning-page\">machine learning</a> projects as an on-demand resource. We can also create <a href=\"https://coefficient.ai/#training-page\">bespoke training workshops</a> adapted to your industry, virtual or in-person, with training clients currently including BNP Paribas, EY, the Met Police and the BBC.\n",
    "</p>\n",
    "\n",
    "</div>"
   ]
  }
 ],
 "metadata": {
  "kernelspec": {
   "display_name": "Python (advent)",
   "language": "python",
   "name": "advent"
  },
  "language_info": {
   "codemirror_mode": {
    "name": "ipython",
    "version": 3
   },
   "file_extension": ".py",
   "mimetype": "text/x-python",
   "name": "python",
   "nbconvert_exporter": "python",
   "pygments_lexer": "ipython3",
   "version": "3.11.6"
  }
 },
 "nbformat": 4,
 "nbformat_minor": 5
}
