{
 "cells": [
  {
   "cell_type": "markdown",
   "id": "853c66f5-00c4-4efe-b394-5251a418575b",
   "metadata": {},
   "source": [
    "# Python Advent Calendar\n",
    "## [Day 1: Mastering Notifications with Python](https://py-advent-calendar.beehiiv.com/p/py-advent-calendar-2023-day-1)\n",
    "_🔗 [Read the newsletter here](https://py-advent-calendar.beehiiv.com/p/py-advent-calendar-2023-day-1)_\n",
    "\n",
    "Every day, we'll open a new door to Python secrets. Today, let's explore how to send notifications using Python. Whilst your code is running, you could use your newfound downtime to get on with other tasks 🧹 make a cup of tea ☕ reply to that email 📧 share this newsletter on [LinkedIn](https://www.linkedin.com/feed/update/urn:li:activity:7135954222864293888) or [Twitter](https://twitter.com/CoefficientData/status/1730219749345312871)  📣 or spend a moment to [make someone's day](https://www.youtube.com/watch?v=sB6AH981npo) ❤️."
   ]
  },
  {
   "cell_type": "markdown",
   "id": "7d2c86cd-24c9-458c-81ef-41ece713a514",
   "metadata": {},
   "source": [
    "**Note:** If notifications are not showing up, please ensure you don't have \"Do Not Disturb\" or similar modes enabled which would silence _all__ notifications."
   ]
  },
  {
   "cell_type": "markdown",
   "id": "e8eedce7-4a1e-44b6-a684-70a89b920c8b",
   "metadata": {},
   "source": [
    "---"
   ]
  },
  {
   "cell_type": "code",
   "execution_count": 1,
   "id": "84ba04ff-dbdc-419d-b269-9cad69b3a913",
   "metadata": {},
   "outputs": [
    {
     "data": {
      "text/html": [
       "\n",
       "                <script type=\"application/javascript\" id=\"jupyter_black\">\n",
       "                (function() {\n",
       "                    if (window.IPython === undefined) {\n",
       "                        return\n",
       "                    }\n",
       "                    var msg = \"WARNING: it looks like you might have loaded \" +\n",
       "                        \"jupyter_black in a non-lab notebook with \" +\n",
       "                        \"`is_lab=True`. Please double check, and if \" +\n",
       "                        \"loading with `%load_ext` please review the README!\"\n",
       "                    console.log(msg)\n",
       "                    alert(msg)\n",
       "                })()\n",
       "                </script>\n",
       "                "
      ],
      "text/plain": [
       "<IPython.core.display.HTML object>"
      ]
     },
     "metadata": {},
     "output_type": "display_data"
    }
   ],
   "source": [
    "%load_ext jupyter_black"
   ]
  },
  {
   "cell_type": "markdown",
   "id": "d5fc249a-92e8-49d5-aaf8-1f3a551e2d40",
   "metadata": {},
   "source": [
    "### 1️⃣  jupyterlab_notify: Desktop alerts from Jupyter\n",
    "📆 Last updated: May 2023  |  ⬇️ Downloads: 106/week  |  🐍 [PyPI](https://www.pypi.org/project/jupyterlab_notify)  |  ⭐ [GitHub Stars: 5](https://github.com/deshaw/jupyterlab-notify)\n",
    "\n",
    "#### 🔍 What is it?\n",
    "\n",
    "Trigger desktop notifications using a Jupyter cell magic to alert you when a cell has completed execution. Inspired by the earlier [jupyter-notify](https://github.com/ShopRunner/jupyter-notify) (notebook only, and last updated April 2021) and adapted to work with Jupyter Lab.\n",
    "\n",
    "#### 📦 Install\n",
    "\n",
    "`pip install jupyterlab-notify`\n",
    "\n",
    "#### 🛠️ Use\n",
    "\n",
    "First register the magic:"
   ]
  },
  {
   "cell_type": "code",
   "execution_count": 2,
   "id": "cd7d2dcf-93b6-4c29-9713-0a5b2750da1d",
   "metadata": {},
   "outputs": [
    {
     "data": {
      "application/desktop-notify+json": {
       "id": "9a79a5df-3df0-453a-9c97-a625cf814fcb",
       "isProcessed": true,
       "payload": {
        "title": null
       },
       "type": "INIT"
      },
      "text/plain": [
       "<jupyterlab_notify.magics._Notification at 0x104c37b50>"
      ]
     },
     "metadata": {},
     "output_type": "display_data"
    }
   ],
   "source": [
    "%load_ext jupyterlab_notify"
   ]
  },
  {
   "cell_type": "markdown",
   "id": "2cfc05b0-be47-45f3-a0af-ade78cb2b4cd",
   "metadata": {},
   "source": [
    "Then trigger alerts using the `%%notify` magic:"
   ]
  },
  {
   "cell_type": "code",
   "execution_count": 3,
   "id": "7eeda241-3d16-42d3-b537-c50e6de6332a",
   "metadata": {},
   "outputs": [
    {
     "data": {
      "application/desktop-notify+json": {
       "id": "b23b772f-d330-4125-8c65-d99fd459c179",
       "isProcessed": true,
       "payload": {
        "title": "Cell execution completed successfully"
       },
       "type": "NOTIFY"
      },
      "text/plain": [
       "<jupyterlab_notify.magics._Notification at 0x1048532d0>"
      ]
     },
     "metadata": {},
     "output_type": "display_data"
    }
   ],
   "source": [
    "import time\n",
    "\n",
    "time.sleep(2)"
   ]
  },
  {
   "cell_type": "markdown",
   "id": "d2fc1a7c-4044-438e-96a5-328eeb62f289",
   "metadata": {},
   "source": [
    "---"
   ]
  },
  {
   "cell_type": "markdown",
   "id": "c8b2aa5e-7db1-4328-aa8f-04e30574247e",
   "metadata": {},
   "source": [
    "### 2️⃣ [pync](https://pypi.org/project/pync/): macOS alerts from Python\n",
    "📆 Last updated: Jan 2022  |  ⬇️ Downloads: 455/week  |  🐍 [PyPI](https://www.pypi.org/project/pync)  |  ⭐ [GitHub Stars: 353](https://github.com/syabruk/pync)\n",
    "\n",
    "#### ❓ What about Linux & Windows?\n",
    "\n",
    "Check out [plyer](https://pypi.org/project/plyer/) - it's actively maintained and exposes a huge array of native APIs on Windows, Linux, macOS, Android and iOS including notifications, audio recordings, camera access, GPS, native file chooser, keystores, and more.\n",
    "\n",
    "#### 🔍 What is it?\n",
    "\n",
    "Triggers macOS notifications with customisable callback actions by wrapping the [terminal-notifier](https://github.com/alloy/terminal-notifier) command-line tool.\n",
    "\n",
    "#### 📦 Install\n",
    "\n",
    "`pip install pync`\n",
    "\n",
    "#### 🛠️ Use"
   ]
  },
  {
   "cell_type": "code",
   "execution_count": 4,
   "id": "53ea4eda-52c6-4348-a679-85411e72bebb",
   "metadata": {},
   "outputs": [],
   "source": [
    "import pync"
   ]
  },
  {
   "cell_type": "code",
   "execution_count": 5,
   "id": "8811ba7f-961f-45bb-a409-536c2d141971",
   "metadata": {},
   "outputs": [],
   "source": [
    "# Notification from \"Terminal\"\n",
    "pync.notify(\"Hello from Terminal\")"
   ]
  },
  {
   "cell_type": "code",
   "execution_count": 6,
   "id": "acb3c68c-f9c6-4d90-a7c3-8ef113ccc6e7",
   "metadata": {},
   "outputs": [],
   "source": [
    "# Notification from \"Python\"\n",
    "pync.notify(\"Hello from Python\", title=\"Python\")"
   ]
  },
  {
   "cell_type": "code",
   "execution_count": 7,
   "id": "6e7b49c4-a1f1-4e92-8bfd-936776a0367a",
   "metadata": {},
   "outputs": [],
   "source": [
    "!sleep 3\n",
    "# Click the notification to open Safari\n",
    "pync.notify(\"Click me!\", activate=\"com.apple.Safari\", title=\"Go to Safari\")"
   ]
  },
  {
   "cell_type": "code",
   "execution_count": 8,
   "id": "3f0b8563-eb69-4522-92a4-514b93b486b0",
   "metadata": {},
   "outputs": [],
   "source": [
    "# Click the notification to open a URL\n",
    "url = \"https://github.com/CoefficientSystems/python-advent-calendar\"\n",
    "pync.notify(\"Check out our GitHub repo!\", open=url)"
   ]
  },
  {
   "cell_type": "code",
   "execution_count": null,
   "id": "7ccc9dd3-a857-45d4-a5b1-d86210b3a4fe",
   "metadata": {},
   "outputs": [],
   "source": [
    "# Make macOS talk\n",
    "joke = \"Knock knock. Race condition. Who's there?\"\n",
    "pync.notify(\"Want to hear a joke?\", execute=f'say \"{joke}\"')"
   ]
  },
  {
   "cell_type": "code",
   "execution_count": 14,
   "id": "9892735e-35d6-44d8-b38c-b833acce6182",
   "metadata": {},
   "outputs": [],
   "source": [
    "# Bonus: get a programming joke from jokeapi.dev\n",
    "# 🚨 WARNING: JOKES MAY NOT BE WORK/CHILD APPROPRIATE.\n",
    "import requests\n",
    "\n",
    "\n",
    "def get_joke():\n",
    "    url = \"https://v2.jokeapi.dev/joke/Programming\"\n",
    "    response = requests.get(url)\n",
    "    data = response.json()\n",
    "\n",
    "    if data[\"type\"] == \"single\":  # Single part joke\n",
    "        return data[\"joke\"]\n",
    "    else:  # Two part joke\n",
    "        return f\"{data['setup']} - {data['delivery']}\"\n",
    "\n",
    "\n",
    "# Fetch a joke\n",
    "joke = get_joke()\n",
    "pync.notify(f\"Here's a joke: {joke}\", execute=f'say \"{joke}\"')"
   ]
  },
  {
   "cell_type": "code",
   "execution_count": 15,
   "id": "e7c0ecaf-fb38-48e8-9dc2-8841e6d38b92",
   "metadata": {},
   "outputs": [],
   "source": [
    "# Sing a song!\n",
    "import html2text\n",
    "\n",
    "lyrics = requests.get(\n",
    "    \"https://www.justsomelyrics.com/609445/shakin-stevens-snow-is-falling-lyrics.html\"\n",
    ").content\n",
    "lyrics = html2text.html2text(str(lyrics))\n",
    "lyrics = lyrics.replace(\"\\\\n\", \"\").replace(\"\\n\", \"\")[42:175]\n",
    "pync.notify(\"Do you want to hear me sing?\", execute=f'say \"{lyrics}\"', title=\"Shakin' Stevens\")"
   ]
  },
  {
   "cell_type": "markdown",
   "id": "1b3b17cf-ef52-4e6f-8348-f42f0f3073e8",
   "metadata": {},
   "source": [
    "---"
   ]
  },
  {
   "cell_type": "markdown",
   "id": "e8450462-b032-44c7-aaf0-6cab03d2a644",
   "metadata": {},
   "source": [
    "### 3️⃣ [Pushover](https://github.com/laprice/pushover): Send notifications to your mobile\n",
    "\n",
    "📆 Last updated: June 2023  |  ⬇️ Downloads: 91/week  |  🐍 [PyPI](https://www.pypi.org/project/pushover)  |  ⭐ [GitHub Stars: 23](https://github.com/laprice/pushover)\n",
    "\n",
    "#### 🔍 What is it?\n",
    "\n",
    "Use the [pushover.net](https://pushover.net/) service to deliver notifications in real-time to the Pushover app on iOS, Android, or desktop client. The Pushover service has a one-off cost of $5 per platform to cover service costs. Their [website states](https://support.pushover.net/i8-how-much-does-pushover-cost-is-there-a-subscription): \"We don't show ads in any of our apps or notifications, and we don't sell any of your data.\"\n",
    "\n",
    "#### 📦 Install\n",
    "\n",
    "1.  Install the Pushover app on your mobile device.\n",
    "2.  [Sign up to try it free for 30 days](https://pushover.net/pricing) and go to <https://pushover.net/apps/build> to get your account details.\n",
    "3.  Verify your email address to create an API token.\n",
    "4.  pip install pushover\n",
    "\n",
    "#### 🛠️ Use\n",
    "First create a file called `credentials.pushover`"
   ]
  },
  {
   "cell_type": "markdown",
   "id": "2504b7cd-c140-44c4-a2ca-6c8015e0ef2f",
   "metadata": {},
   "source": [
    "```credentials.pushover\n",
    "[pushover]\n",
    "app_key = ###############################\n",
    "user_key = ##############################\n",
    "```"
   ]
  },
  {
   "cell_type": "markdown",
   "id": "9f12f46f-043d-4ff0-a40e-28f3f819a983",
   "metadata": {},
   "source": [
    "Then you can start firing notifications to your mobile device:"
   ]
  },
  {
   "cell_type": "code",
   "execution_count": 16,
   "id": "68a1c05d-86e8-4ffe-9782-d1593a055b08",
   "metadata": {},
   "outputs": [],
   "source": [
    "from pushover import PushoverClient\n",
    "\n",
    "client = PushoverClient(\"credentials.pushover\")\n",
    "client.send_message(\"☕ Your tea is ready.\")"
   ]
  },
  {
   "cell_type": "markdown",
   "id": "65ca6452-dc88-4129-bb5e-af4031baafad",
   "metadata": {},
   "source": [
    "---"
   ]
  },
  {
   "cell_type": "markdown",
   "id": "7eb984c4-3194-4237-aea1-cbb6b47edacd",
   "metadata": {},
   "source": [
    "###  4️⃣  Desktop Notifications using IPython + Java"
   ]
  },
  {
   "cell_type": "code",
   "execution_count": 18,
   "id": "6b4987fc-8b22-4d94-9194-c2202934d8c5",
   "metadata": {},
   "outputs": [
    {
     "data": {
      "application/javascript": [
       "new Notification('Cell Execution Has Finished')"
      ],
      "text/plain": [
       "<IPython.core.display.Javascript object>"
      ]
     },
     "execution_count": 18,
     "metadata": {},
     "output_type": "execute_result"
    }
   ],
   "source": [
    "from IPython.display import Javascript\n",
    "\n",
    "Javascript(\"new Notification('Cell Execution Has Finished')\")"
   ]
  },
  {
   "cell_type": "code",
   "execution_count": 19,
   "id": "31d741cc-46fb-43be-871b-e574a0de55d2",
   "metadata": {},
   "outputs": [
    {
     "data": {
      "application/javascript": [
       "new Notification('JupyterLab', {body: 'Cell Execution Has Finished!', icon: \"data:image/svg+xml,%3Csvg width='39' height='51' viewBox='0 0 39 51' version='2.0' xmlns='http://www.w3.org/2000/svg' xmlns:xlink='http://www.w3.org/1999/xlink' xmlns:figma='http://www.figma.com/figma/ns'%3E %3Ctitle%3Elogo-5.svg%3C/title%3E %3Cdesc%3ECreated using Figma 0.90%3C/desc%3E %3Cg id='Canvas' transform='translate(-1638 -2281)' figma:type='canvas'%3E %3Cg id='logo' style='mix-blend-mode:normal;' figma:type='group'%3E %3Cg id='g' style='mix-blend-mode:normal;' figma:type='group'%3E %3Cg id='path' style='mix-blend-mode:normal;' figma:type='group'%3E %3Cg id='path7 fill' style='mix-blend-mode:normal;' figma:type='vector'%3E %3Cuse xlink:href='%23path0_fill' transform='translate(1669.3 2281.31)' fill='%23767677' style='mix-blend-mode:normal;'/%3E %3C/g%3E %3C/g%3E %3Cg id='path' style='mix-blend-mode:normal;' figma:type='group'%3E %3Cg id='path8 fill' style='mix-blend-mode:normal;' figma:type='vector'%3E %3Cuse xlink:href='%23path1_fill' transform='translate(1639.74 2311.98)' fill='%23F37726' style='mix-blend-mode:normal;'/%3E %3C/g%3E %3C/g%3E %3Cg id='path' style='mix-blend-mode:normal;' figma:type='group'%3E %3Cg id='path9 fill' style='mix-blend-mode:normal;' figma:type='vector'%3E %3Cuse xlink:href='%23path2_fill' transform='translate(1639.73 2285.48)' fill='%23F37726' style='mix-blend-mode:normal;'/%3E %3C/g%3E %3C/g%3E %3Cg id='path' style='mix-blend-mode:normal;' figma:type='group'%3E %3Cg id='path10 fill' style='mix-blend-mode:normal;' figma:type='vector'%3E %3Cuse xlink:href='%23path3_fill' transform='translate(1639.8 2323.81)' fill='%23989798' style='mix-blend-mode:normal;'/%3E %3C/g%3E %3C/g%3E %3Cg id='path' style='mix-blend-mode:normal;' figma:type='group'%3E %3Cg id='path11 fill' style='mix-blend-mode:normal;' figma:type='vector'%3E %3Cuse xlink:href='%23path4_fill' transform='translate(1638.36 2286.06)' fill='%236F7070' style='mix-blend-mode:normal;'/%3E %3C/g%3E %3C/g%3E %3C/g%3E %3C/g%3E %3C/g%3E %3Cdefs%3E %3Cpath id='path0_fill' d='M 5.89353 2.844C 5.91889 3.43165 5.77085 4.01367 5.46815 4.51645C 5.16545 5.01922 4.72168 5.42015 4.19299 5.66851C 3.6643 5.91688 3.07444 6.00151 2.49805 5.91171C 1.92166 5.8219 1.38463 5.5617 0.954898 5.16401C 0.52517 4.76633 0.222056 4.24903 0.0839037 3.67757C -0.0542483 3.10611 -0.02123 2.50617 0.178781 1.95364C 0.378793 1.4011 0.736809 0.920817 1.20754 0.573538C 1.67826 0.226259 2.24055 0.0275919 2.82326 0.00267229C 3.60389 -0.0307115 4.36573 0.249789 4.94142 0.782551C 5.51711 1.31531 5.85956 2.05676 5.89353 2.844Z'/%3E %3Cpath id='path1_fill' d='M 18.2646 7.13411C 10.4145 7.13411 3.55872 4.2576 0 0C 1.32539 3.8204 3.79556 7.13081 7.0686 9.47303C 10.3417 11.8152 14.2557 13.0734 18.269 13.0734C 22.2823 13.0734 26.1963 11.8152 29.4694 9.47303C 32.7424 7.13081 35.2126 3.8204 36.538 0C 32.9705 4.2576 26.1148 7.13411 18.2646 7.13411Z'/%3E %3Cpath id='path2_fill' d='M 18.2733 5.93931C 26.1235 5.93931 32.9793 8.81583 36.538 13.0734C 35.2126 9.25303 32.7424 5.94262 29.4694 3.6004C 26.1963 1.25818 22.2823 0 18.269 0C 14.2557 0 10.3417 1.25818 7.0686 3.6004C 3.79556 5.94262 1.32539 9.25303 0 13.0734C 3.56745 8.82463 10.4232 5.93931 18.2733 5.93931Z'/%3E %3Cpath id='path3_fill' d='M 7.42789 3.58338C 7.46008 4.3243 7.27355 5.05819 6.89193 5.69213C 6.51031 6.32607 5.95075 6.83156 5.28411 7.1446C 4.61747 7.45763 3.87371 7.56414 3.14702 7.45063C 2.42032 7.33712 1.74336 7.0087 1.20184 6.50695C 0.660328 6.0052 0.27861 5.35268 0.105017 4.63202C -0.0685757 3.91135 -0.0262361 3.15494 0.226675 2.45856C 0.479587 1.76217 0.931697 1.15713 1.52576 0.720033C 2.11983 0.282935 2.82914 0.0334395 3.56389 0.00313344C 4.54667 -0.0374033 5.50529 0.316706 6.22961 0.987835C 6.95393 1.65896 7.38484 2.59235 7.42789 3.58338L 7.42789 3.58338Z'/%3E %3Cpath id='path4_fill' d='M 2.27471 4.39629C 1.84363 4.41508 1.41671 4.30445 1.04799 4.07843C 0.679268 3.8524 0.385328 3.52114 0.203371 3.12656C 0.0214136 2.73198 -0.0403798 2.29183 0.0258116 1.86181C 0.0920031 1.4318 0.283204 1.03126 0.575213 0.710883C 0.867222 0.39051 1.24691 0.164708 1.66622 0.0620592C 2.08553 -0.0405897 2.52561 -0.0154714 2.93076 0.134235C 3.33591 0.283941 3.68792 0.551505 3.94222 0.90306C 4.19652 1.25462 4.34169 1.67436 4.35935 2.10916C 4.38299 2.69107 4.17678 3.25869 3.78597 3.68746C 3.39516 4.11624 2.85166 4.37116 2.27471 4.39629L 2.27471 4.39629Z'/%3E %3C/defs%3E %3C/svg%3E\"});"
      ],
      "text/plain": [
       "<IPython.core.display.Javascript object>"
      ]
     },
     "execution_count": 19,
     "metadata": {},
     "output_type": "execute_result"
    }
   ],
   "source": [
    "from IPython.display import Javascript\n",
    "\n",
    "Javascript(\n",
    "    \"new Notification('JupyterLab', {body: 'Cell Execution Has Finished!', icon: \\\"data:image/svg+xml,%3Csvg width='39' height='51' viewBox='0 0 39 51' version='2.0' xmlns='http://www.w3.org/2000/svg' xmlns:xlink='http://www.w3.org/1999/xlink' xmlns:figma='http://www.figma.com/figma/ns'%3E %3Ctitle%3Elogo-5.svg%3C/title%3E %3Cdesc%3ECreated using Figma 0.90%3C/desc%3E %3Cg id='Canvas' transform='translate(-1638 -2281)' figma:type='canvas'%3E %3Cg id='logo' style='mix-blend-mode:normal;' figma:type='group'%3E %3Cg id='g' style='mix-blend-mode:normal;' figma:type='group'%3E %3Cg id='path' style='mix-blend-mode:normal;' figma:type='group'%3E %3Cg id='path7 fill' style='mix-blend-mode:normal;' figma:type='vector'%3E %3Cuse xlink:href='%23path0_fill' transform='translate(1669.3 2281.31)' fill='%23767677' style='mix-blend-mode:normal;'/%3E %3C/g%3E %3C/g%3E %3Cg id='path' style='mix-blend-mode:normal;' figma:type='group'%3E %3Cg id='path8 fill' style='mix-blend-mode:normal;' figma:type='vector'%3E %3Cuse xlink:href='%23path1_fill' transform='translate(1639.74 2311.98)' fill='%23F37726' style='mix-blend-mode:normal;'/%3E %3C/g%3E %3C/g%3E %3Cg id='path' style='mix-blend-mode:normal;' figma:type='group'%3E %3Cg id='path9 fill' style='mix-blend-mode:normal;' figma:type='vector'%3E %3Cuse xlink:href='%23path2_fill' transform='translate(1639.73 2285.48)' fill='%23F37726' style='mix-blend-mode:normal;'/%3E %3C/g%3E %3C/g%3E %3Cg id='path' style='mix-blend-mode:normal;' figma:type='group'%3E %3Cg id='path10 fill' style='mix-blend-mode:normal;' figma:type='vector'%3E %3Cuse xlink:href='%23path3_fill' transform='translate(1639.8 2323.81)' fill='%23989798' style='mix-blend-mode:normal;'/%3E %3C/g%3E %3C/g%3E %3Cg id='path' style='mix-blend-mode:normal;' figma:type='group'%3E %3Cg id='path11 fill' style='mix-blend-mode:normal;' figma:type='vector'%3E %3Cuse xlink:href='%23path4_fill' transform='translate(1638.36 2286.06)' fill='%236F7070' style='mix-blend-mode:normal;'/%3E %3C/g%3E %3C/g%3E %3C/g%3E %3C/g%3E %3C/g%3E %3Cdefs%3E %3Cpath id='path0_fill' d='M 5.89353 2.844C 5.91889 3.43165 5.77085 4.01367 5.46815 4.51645C 5.16545 5.01922 4.72168 5.42015 4.19299 5.66851C 3.6643 5.91688 3.07444 6.00151 2.49805 5.91171C 1.92166 5.8219 1.38463 5.5617 0.954898 5.16401C 0.52517 4.76633 0.222056 4.24903 0.0839037 3.67757C -0.0542483 3.10611 -0.02123 2.50617 0.178781 1.95364C 0.378793 1.4011 0.736809 0.920817 1.20754 0.573538C 1.67826 0.226259 2.24055 0.0275919 2.82326 0.00267229C 3.60389 -0.0307115 4.36573 0.249789 4.94142 0.782551C 5.51711 1.31531 5.85956 2.05676 5.89353 2.844Z'/%3E %3Cpath id='path1_fill' d='M 18.2646 7.13411C 10.4145 7.13411 3.55872 4.2576 0 0C 1.32539 3.8204 3.79556 7.13081 7.0686 9.47303C 10.3417 11.8152 14.2557 13.0734 18.269 13.0734C 22.2823 13.0734 26.1963 11.8152 29.4694 9.47303C 32.7424 7.13081 35.2126 3.8204 36.538 0C 32.9705 4.2576 26.1148 7.13411 18.2646 7.13411Z'/%3E %3Cpath id='path2_fill' d='M 18.2733 5.93931C 26.1235 5.93931 32.9793 8.81583 36.538 13.0734C 35.2126 9.25303 32.7424 5.94262 29.4694 3.6004C 26.1963 1.25818 22.2823 0 18.269 0C 14.2557 0 10.3417 1.25818 7.0686 3.6004C 3.79556 5.94262 1.32539 9.25303 0 13.0734C 3.56745 8.82463 10.4232 5.93931 18.2733 5.93931Z'/%3E %3Cpath id='path3_fill' d='M 7.42789 3.58338C 7.46008 4.3243 7.27355 5.05819 6.89193 5.69213C 6.51031 6.32607 5.95075 6.83156 5.28411 7.1446C 4.61747 7.45763 3.87371 7.56414 3.14702 7.45063C 2.42032 7.33712 1.74336 7.0087 1.20184 6.50695C 0.660328 6.0052 0.27861 5.35268 0.105017 4.63202C -0.0685757 3.91135 -0.0262361 3.15494 0.226675 2.45856C 0.479587 1.76217 0.931697 1.15713 1.52576 0.720033C 2.11983 0.282935 2.82914 0.0334395 3.56389 0.00313344C 4.54667 -0.0374033 5.50529 0.316706 6.22961 0.987835C 6.95393 1.65896 7.38484 2.59235 7.42789 3.58338L 7.42789 3.58338Z'/%3E %3Cpath id='path4_fill' d='M 2.27471 4.39629C 1.84363 4.41508 1.41671 4.30445 1.04799 4.07843C 0.679268 3.8524 0.385328 3.52114 0.203371 3.12656C 0.0214136 2.73198 -0.0403798 2.29183 0.0258116 1.86181C 0.0920031 1.4318 0.283204 1.03126 0.575213 0.710883C 0.867222 0.39051 1.24691 0.164708 1.66622 0.0620592C 2.08553 -0.0405897 2.52561 -0.0154714 2.93076 0.134235C 3.33591 0.283941 3.68792 0.551505 3.94222 0.90306C 4.19652 1.25462 4.34169 1.67436 4.35935 2.10916C 4.38299 2.69107 4.17678 3.25869 3.78597 3.68746C 3.39516 4.11624 2.85166 4.37116 2.27471 4.39629L 2.27471 4.39629Z'/%3E %3C/defs%3E %3C/svg%3E\\\"});\"\n",
    ")"
   ]
  },
  {
   "cell_type": "code",
   "execution_count": 20,
   "id": "5bb44f17-af32-49a3-953c-c94bc0be485c",
   "metadata": {},
   "outputs": [
    {
     "data": {
      "application/javascript": [
       "new Notification('Cell Execution Has Finished')"
      ],
      "text/plain": [
       "<IPython.core.display.Javascript object>"
      ]
     },
     "execution_count": 20,
     "metadata": {},
     "output_type": "execute_result"
    }
   ],
   "source": [
    "def play_notification():\n",
    "    return Javascript(\"new Notification('Cell Execution Has Finished')\")\n",
    "\n",
    "\n",
    "play_notification()"
   ]
  },
  {
   "cell_type": "markdown",
   "id": "8c552119-3fec-45fe-a389-17e1e54eaa26",
   "metadata": {},
   "source": [
    "---"
   ]
  },
  {
   "cell_type": "markdown",
   "id": "d00c8868-c89e-48ec-9346-a8a29954d216",
   "metadata": {},
   "source": [
    "<div class=\"alert alert-block alert-success\">\n",
    "<h1>🎊🎄  Congratulations!  🐍🚀 </h1>\n",
    "\n",
    "<p>\n",
    "    👤 This notebook has been made by <a href=\"https://twitter.com/john_sandall\">@John_Sandall</a> and the team at <a href=\"https://twitter.com/CoefficientData\">@CoefficientData</a>. We run training workshops in Python, data science and data engineering.\n",
    "</p><br/>\n",
    "\n",
    "<p>\n",
    "    🎓 If you are interested in registering for our <strong>paid workshops in Python for data science and engineering</strong>, you can <a href=\"https://coefficient.ai/learn-python\">sign up to our workshops mailing list here</a>.\n",
    "</p><br/>\n",
    "\n",
    "<p>\n",
    "    🎬 You can follow my <a href=\"https://github.com/pydatabristol/workshops/tree/master/workshop_2019_10_28_first_steps\"><em>First Steps with Python</em></a> and <a href=\"https://github.com/pydatabristol/workshops/tree/master/workshop_2020_02_27_first_steps_with_pandas\"><em>First Steps with pandas</em></a> workshops for free as part of <a href=\"https://www.meetup.com/PyData-Bristol/\">PyData Bristol's</a> Zero To Hero workshop series. If you'd like to learn more <strong>Jupyter tips &amp; tricks</strong> you may be interested in my event with Ben Sparks from <a href=\"http://bit.ly/Numberphile_Sub\">Numberphile</a> where we explored simulating viral outbreaks with <strong>SIR models</strong>, <strong>interactive Jupyter Widgets</strong> and <strong>animated matplotlib charts</strong> in <a href=\"https://www.crowdcast.io/e/pydata1/register\"><em>Building An Interactive Coronavirus Model In Jupyter w/ Ben Sparks</em></a>.\n",
    "</p><br/>\n",
    "\n",
    "<p>\n",
    "    💼 I am the Founder of data science consultancy <a href=\"https://coefficient.ai/\">Coefficient</a>. If you would like to work with us, our team can help you with your <a href=\"https://www.youtube.com/watch?v=qBvO3fyl1lk\">data science</a>, <a href=\"https://coefficient.ai/#services-page\">software engineering</a> and <a href=\"https://coefficient.ai/#machine-learning-page\">machine learning</a> projects as an on-demand resource. We can also create <a href=\"https://coefficient.ai/#training-page\">bespoke training workshops</a> adapted to your industry, virtual or in-person, with training clients currently including BNP Paribas, EY, the Met Police and the BBC.\n",
    "</p>\n",
    "\n",
    "</div>"
   ]
  }
 ],
 "metadata": {
  "kernelspec": {
   "display_name": "Python (advent)",
   "language": "python",
   "name": "advent"
  },
  "language_info": {
   "codemirror_mode": {
    "name": "ipython",
    "version": 3
   },
   "file_extension": ".py",
   "mimetype": "text/x-python",
   "name": "python",
   "nbconvert_exporter": "python",
   "pygments_lexer": "ipython3",
   "version": "3.11.6"
  }
 },
 "nbformat": 4,
 "nbformat_minor": 5
}
